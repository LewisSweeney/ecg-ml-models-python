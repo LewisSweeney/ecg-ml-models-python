{
 "cells": [
  {
   "cell_type": "code",
   "execution_count": 63,
   "metadata": {},
   "outputs": [
    {
     "data": {
      "text/plain": [
       "0"
      ]
     },
     "execution_count": 63,
     "metadata": {},
     "output_type": "execute_result"
    }
   ],
   "source": [
    "import modin.pandas as pd\n",
    "import numpy as np\n",
    "import matplotlib.pyplot as plt\n",
    "%matplotlib inline\n",
    "\n",
    "train = pd.read_csv(\"./data/train_feat.csv\").drop(['ID'], axis=1)\n",
    "test = pd.read_csv(\"./data/test_feat.csv\")\n",
    "\n",
    "train = train.fillna(train.mean())\n",
    "test = test.fillna(test.mean())\n",
    "\n",
    "X = train.drop(['Type'], axis=1)\n",
    "y = train['Type']\n",
    "\n",
    "train.isnull().sum().sum()"
   ]
  },
  {
   "cell_type": "code",
   "execution_count": 64,
   "metadata": {},
   "outputs": [
    {
     "name": "stdout",
     "output_type": "stream",
     "text": [
      "Random Forest - Number of mislabeled points out of a total 3919 points : 603\n"
     ]
    }
   ],
   "source": [
    "from sklearn.model_selection import train_test_split\n",
    "from sklearn.naive_bayes import GaussianNB\n",
    "from sklearn.ensemble import RandomForestClassifier\n",
    "from sklearn.ensemble import ExtraTreesClassifier\n",
    "from sklearn.model_selection import cross_val_score\n",
    "\n",
    "X_train, X_test, y_train, y_test = train_test_split(X, y, test_size=0.3, random_state=2)\n",
    "\n",
    "randfor = RandomForestClassifier(n_estimators=128, bootstrap=False, max_depth=None, min_samples_split=2)\n",
    "\n",
    "y_pred_randfor = randfor.fit(X_train, y_train).predict(X_test)\n",
    "\n",
    "#y_pred_randfor.score(X_test, y_test)\n",
    "print(\"Random Forest - Number of mislabeled points out of a total %d points : %d\" % (X_test.shape[0], (y_test != y_pred_randfor).sum()))\n",
    "#scores=cross_val_score(randfor, X_train, y_train, cv = 10, scoring='precision')"
   ]
  },
  {
   "cell_type": "code",
   "execution_count": 77,
   "metadata": {},
   "outputs": [
    {
     "name": "stdout",
     "output_type": "stream",
     "text": [
      "       ID Predicted\n",
      "0  C00000         N\n",
      "1  C00001         N\n",
      "2  C00002         A\n",
      "3  C00003         N\n",
      "4  C00004         N\n"
     ]
    }
   ],
   "source": [
    "sample = pd.read_csv('./data/sampleSubmission.csv')\n",
    "print(sample.head())\n",
    "#Make predications on test data\n",
    "model = randfor\n",
    "\n",
    "y_pred = model.predict(test.drop('ID', axis=1).values)\n",
    "results = pd.DataFrame()\n",
    "results[\"ID\"]=test[\"ID\"]\n",
    "results[\"Predicted\"]= y_pred\n",
    "\n",
    "#Export result\n",
    "results.to_csv(\"submissionTest.csv\", index=False)"
   ]
  },
  {
   "cell_type": "code",
   "execution_count": 79,
   "metadata": {},
   "outputs": [
    {
     "name": "stdout",
     "output_type": "stream",
     "text": [
      "       ID Predicted\n",
      "0  C00000         O\n",
      "1  C00001         O\n",
      "2  C00002         N\n",
      "3  C00003         N\n",
      "4  C00004         N\n"
     ]
    }
   ],
   "source": [
    "print(results.head())"
   ]
  },
  {
   "cell_type": "code",
   "execution_count": null,
   "metadata": {},
   "outputs": [],
   "source": []
  }
 ],
 "metadata": {
  "kernelspec": {
   "display_name": "Python 3",
   "language": "python",
   "name": "python3"
  },
  "language_info": {
   "codemirror_mode": {
    "name": "ipython",
    "version": 3
   },
   "file_extension": ".py",
   "mimetype": "text/x-python",
   "name": "python",
   "nbconvert_exporter": "python",
   "pygments_lexer": "ipython3",
   "version": "3.7.3"
  }
 },
 "nbformat": 4,
 "nbformat_minor": 4
}
