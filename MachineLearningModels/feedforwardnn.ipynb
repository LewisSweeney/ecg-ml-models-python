{
 "cells": [
  {
   "cell_type": "code",
   "execution_count": 228,
   "metadata": {},
   "outputs": [
    {
     "name": "stderr",
     "output_type": "stream",
     "text": [
      "RuntimeWarning: invalid value encountered in greater_equal\n",
      "UserWarning: `DataFrame.fillna` defaulting to pandas implementation.\n",
      "UserWarning: Distributing <class 'pandas.core.frame.DataFrame'> object. This may take some time.\n"
     ]
    },
    {
     "name": "stdout",
     "output_type": "stream",
     "text": [
      "0\n"
     ]
    }
   ],
   "source": [
    "import modin.pandas as pd\n",
    "import numpy as np\n",
    "import matplotlib.pyplot as plt\n",
    "from sklearn.preprocessing import LabelEncoder\n",
    "%matplotlib inline\n",
    "\n",
    "\n",
    "encodings = ['a','n','o','~']\n",
    "\n",
    "train = pd.read_csv(\"./data/train_signal.csv\").drop(['ID'], axis=1)\n",
    "init_test = pd.read_csv(\"./data/test_signal.csv\")\n",
    "\n",
    "le = LabelEncoder()\n",
    "\n",
    "train['Type_new'] = le.fit_transform(train['Type'].astype(str))\n",
    "\n",
    "X = train.drop(['Type','Type_new'], axis=1)\n",
    "y = train['Type_new']\n",
    "\n",
    "\n",
    "np.where(X.values >= np.finfo(np.float64).max)\n",
    "\n",
    "X = X.fillna(train.mean())\n",
    "test = init_test.drop(\"ID\", axis=1)\n",
    "test = test.fillna(test.mean())\n",
    "\n",
    "print(X.isnull().sum().sum())\n",
    "\n"
   ]
  },
  {
   "cell_type": "code",
   "execution_count": 187,
   "metadata": {},
   "outputs": [
    {
     "name": "stdout",
     "output_type": "stream",
     "text": [
      "  Type     X0     X1     X2     X3     X4     X5     X6     X7     X8  ...  \\\n",
      "0    N -0.107 -0.100 -0.086 -0.078 -0.071 -0.057 -0.049 -0.035 -0.028  ...   \n",
      "1    N  2.762  3.313  3.863  4.292  4.594  4.623  4.408  3.817  3.400  ...   \n",
      "2    N -0.246 -0.200 -0.159 -0.125 -0.101 -0.090 -0.084 -0.078 -0.072  ...   \n",
      "3    ~  0.519  0.778  1.073  1.392  1.672  1.895  2.012  2.023  1.946  ...   \n",
      "4    ~  0.011 -0.103 -0.265 -0.371 -0.409 -0.422 -0.418 -0.411 -0.386  ...   \n",
      "\n",
      "   X5991  X5992  X5993  X5994  X5995  X5996  X5997  X5998  X5999  Type_new  \n",
      "0 -1.072 -1.028 -0.978 -0.912 -0.862 -0.804 -0.724 -0.630 -0.499         1  \n",
      "1  0.003  0.148  0.241  0.310  0.345  0.368  0.397  0.426  0.438         1  \n",
      "2 -0.038  0.032  0.107  0.165  0.194  0.194  0.159  0.119  0.072         1  \n",
      "3 -0.052 -0.084 -0.099 -0.101 -0.090 -0.067  0.003  0.096  0.179         3  \n",
      "4  0.829  0.763  0.481  0.126 -0.144 -0.224 -0.250 -0.222 -0.207         3  \n",
      "\n",
      "[5 rows x 6002 columns]\n"
     ]
    }
   ],
   "source": []
  },
  {
   "cell_type": "code",
   "execution_count": 229,
   "metadata": {},
   "outputs": [],
   "source": [
    "import tensorflow as tf\n",
    "import tensorflow.keras as keras # or import keras "
   ]
  },
  {
   "cell_type": "code",
   "execution_count": 230,
   "metadata": {},
   "outputs": [],
   "source": [
    "# Flatten the input\n",
    "X_train = X_train.reshape(X_train.shape[0], -1)\n",
    "X_test = X_test.reshape(X_test.shape[0], -1)"
   ]
  },
  {
   "cell_type": "code",
   "execution_count": 232,
   "metadata": {},
   "outputs": [
    {
     "name": "stdout",
     "output_type": "stream",
     "text": [
      "(8751, 750)\n",
      "(4311, 750)\n"
     ]
    }
   ],
   "source": [
    "from sklearn.decomposition import PCA\n",
    "from sklearn.model_selection import train_test_split\n",
    "from sklearn.preprocessing import MinMaxScaler\n",
    "\n",
    "scaler = MinMaxScaler()\n",
    "X = scaler.fit_transform(X)\n",
    "\n",
    "X_train, X_test, y_train, y_test = train_test_split(X, y, test_size=0.33, random_state=42)\n",
    "\n",
    "pca = PCA(n_components=0.95) # reduce dimensions to explain 95% of variance as recommended here: https://www.mikulskibartosz.name/pca-how-to-choose-the-number-of-components/\n",
    "pca.fit(X_train)\n",
    "\n",
    "X_train = pca.transform(X_train)\n",
    "X_test = pca.transform(X_test)\n",
    "\n",
    "print(X_train.shape) \n",
    "print(X_test.shape)"
   ]
  },
  {
   "cell_type": "code",
   "execution_count": 170,
   "metadata": {},
   "outputs": [],
   "source": []
  },
  {
   "cell_type": "code",
   "execution_count": 233,
   "metadata": {},
   "outputs": [
    {
     "name": "stdout",
     "output_type": "stream",
     "text": [
      "(8751,) (4311,)\n",
      "(8751, 4) (4311, 4)\n"
     ]
    }
   ],
   "source": [
    "from keras.utils import to_categorical\n",
    "\n",
    "print(y_train.shape, y_test.shape)\n",
    "\n",
    "y_train = to_categorical(y_train)\n",
    "y_test = to_categorical(y_test)\n",
    "\n",
    "print(y_train.shape, y_test.shape)"
   ]
  },
  {
   "cell_type": "code",
   "execution_count": null,
   "metadata": {},
   "outputs": [],
   "source": []
  },
  {
   "cell_type": "code",
   "execution_count": 234,
   "metadata": {},
   "outputs": [
    {
     "name": "stdout",
     "output_type": "stream",
     "text": [
      "Model: \"sequential_15\"\n",
      "_________________________________________________________________\n",
      "Layer (type)                 Output Shape              Param #   \n",
      "=================================================================\n",
      "dense_29 (Dense)             (None, 32)                24032     \n",
      "_________________________________________________________________\n",
      "activation_29 (Activation)   (None, 32)                0         \n",
      "_________________________________________________________________\n",
      "dense_30 (Dense)             (None, 4)                 132       \n",
      "_________________________________________________________________\n",
      "activation_30 (Activation)   (None, 4)                 0         \n",
      "=================================================================\n",
      "Total params: 24,164\n",
      "Trainable params: 24,164\n",
      "Non-trainable params: 0\n",
      "_________________________________________________________________\n"
     ]
    }
   ],
   "source": [
    "from keras.models import Sequential\n",
    "from keras.layers import Dense, Activation\n",
    "\n",
    "model = Sequential()\n",
    "model.add(Dense(32, input_shape=(750,))) # first dense layer, 32 hidden units\n",
    "model.add(Activation('relu'))            # activation layer\n",
    "model.add(Dense(4))                     # second dense layer\n",
    "model.add(Activation('softmax'))         # output class probabilities\n",
    "\n",
    "model.summary()"
   ]
  },
  {
   "cell_type": "code",
   "execution_count": 235,
   "metadata": {},
   "outputs": [],
   "source": [
    "from keras.optimizers import SGD, Adam, Adagrad\n",
    "\n",
    "optimizer = SGD(lr=0.01) # lr is the learning rate\n",
    "model.compile(optimizer=optimizer, loss='categorical_crossentropy', metrics=['accuracy'])"
   ]
  },
  {
   "cell_type": "code",
   "execution_count": 238,
   "metadata": {},
   "outputs": [
    {
     "name": "stdout",
     "output_type": "stream",
     "text": [
      "Epoch 1/10\n",
      "8751/8751 [==============================] - 0s 22us/step - loss: 0.9671 - accuracy: 0.5916\n",
      "Epoch 2/10\n",
      "8751/8751 [==============================] - 0s 22us/step - loss: 0.9649 - accuracy: 0.5920\n",
      "Epoch 3/10\n",
      "8751/8751 [==============================] - 0s 22us/step - loss: 0.9627 - accuracy: 0.5916\n",
      "Epoch 4/10\n",
      "8751/8751 [==============================] - 0s 22us/step - loss: 0.9607 - accuracy: 0.5923\n",
      "Epoch 5/10\n",
      "8751/8751 [==============================] - 0s 22us/step - loss: 0.9588 - accuracy: 0.5924\n",
      "Epoch 6/10\n",
      "8751/8751 [==============================] - 0s 22us/step - loss: 0.9569 - accuracy: 0.5928\n",
      "Epoch 7/10\n",
      "8751/8751 [==============================] - 0s 22us/step - loss: 0.9549 - accuracy: 0.5932\n",
      "Epoch 8/10\n",
      "8751/8751 [==============================] - 0s 22us/step - loss: 0.9531 - accuracy: 0.5938\n",
      "Epoch 9/10\n",
      "8751/8751 [==============================] - 0s 22us/step - loss: 0.9511 - accuracy: 0.5940\n",
      "Epoch 10/10\n",
      "8751/8751 [==============================] - 0s 22us/step - loss: 0.9493 - accuracy: 0.5940\n"
     ]
    }
   ],
   "source": [
    "# Train the model, iterating on the data in batches of 32 samples\n",
    "model.fit(X_train, y_train, epochs=10, batch_size=50);"
   ]
  },
  {
   "cell_type": "code",
   "execution_count": 239,
   "metadata": {},
   "outputs": [
    {
     "name": "stdout",
     "output_type": "stream",
     "text": [
      "4311/4311 [==============================] - 0s 14us/step\n",
      "Accuracy: 59.08\n"
     ]
    }
   ],
   "source": [
    "# evaluate the keras model \n",
    "_, accuracy = model.evaluate(X_test, y_test)\n",
    "print('Accuracy: %.2f' % (accuracy*100))"
   ]
  },
  {
   "cell_type": "code",
   "execution_count": 240,
   "metadata": {},
   "outputs": [
    {
     "name": "stdout",
     "output_type": "stream",
     "text": [
      "[[0.08131247 0.5582084  0.34116635 0.01931274]\n",
      " [0.09584083 0.5326751  0.34417722 0.02730682]\n",
      " [0.0999978  0.5618301  0.3121924  0.02597976]\n",
      " ...\n",
      " [0.08508591 0.6176477  0.26785296 0.02941343]\n",
      " [0.08209634 0.5953569  0.28649896 0.03604779]\n",
      " [0.08066204 0.5804497  0.3179315  0.02095677]]\n",
      "confusion matrix: \n",
      "[[   0  366    6    0]\n",
      " [   0 2539    8    0]\n",
      " [   0 1275    8    0]\n",
      " [   0  109    0    0]]\n"
     ]
    }
   ],
   "source": [
    "# Or better to making predictions and get the confusion matrix\n",
    "from sklearn import metrics\n",
    "y_pred = model.predict(X_test)\n",
    "print(y_pred)\n",
    "\n",
    "print('confusion matrix: ')\n",
    "matrix = metrics.confusion_matrix(y_test.argmax(axis=1), y_pred.argmax(axis=1))\n",
    "print(matrix)"
   ]
  },
  {
   "cell_type": "code",
   "execution_count": 249,
   "metadata": {},
   "outputs": [
    {
     "name": "stdout",
     "output_type": "stream",
     "text": [
      "       ID Predicted\n",
      "0  C00000         N\n",
      "1  C00001         N\n",
      "2  C00002         A\n",
      "3  C00003         N\n",
      "4  C00004         N\n"
     ]
    },
    {
     "name": "stderr",
     "output_type": "stream",
     "text": [
      "UserWarning: Distributing <class 'NoneType'> object. This may take some time.\n",
      "UserWarning: `DataFrame.to_csv` defaulting to pandas implementation.\n",
      "UserWarning: Distributing <class 'pandas.core.frame.DataFrame'> object. This may take some time.\n"
     ]
    }
   ],
   "source": [
    "sample = pd.read_csv('./data/sampleSubmission.csv')\n",
    "print(sample.head())\n",
    "\n",
    "test_a = pca.transform(test)\n",
    "\n",
    "y_pred = model.predict(test_a)\n",
    "\n",
    "decoded_y_pred = []\n",
    "\n",
    "# Code adapted from https://jovianlin.io/keras-one-hot-encode-decode-sequence-data/\n",
    "#----------------------------------------\n",
    "\n",
    "def decode(datum):\n",
    "    return np.argmax(datum)\n",
    "\n",
    "for i in range(y_pred.shape[0]):\n",
    "    datum = y_pred[i]\n",
    "    decoded_datum = decode(y_pred[i])\n",
    "    decoded_y_pred.append(decoded_datum)\n",
    "    \n",
    "#---------------------------------------    \n",
    "    \n",
    "decoded_y_pred = le.inverse_transform(decoded_y_pred)\n",
    "\n",
    "results = pd.DataFrame()\n",
    "results[\"ID\"]=sample[\"ID\"]\n",
    "results[\"Predicted\"]=decoded_y_pred\n",
    "\n",
    "#Export result\n",
    "results.to_csv(\"submissionNN.csv\", index=False)"
   ]
  },
  {
   "cell_type": "code",
   "execution_count": null,
   "metadata": {},
   "outputs": [],
   "source": []
  }
 ],
 "metadata": {
  "kernelspec": {
   "display_name": "Python 3",
   "language": "python",
   "name": "python3"
  },
  "language_info": {
   "codemirror_mode": {
    "name": "ipython",
    "version": 3
   },
   "file_extension": ".py",
   "mimetype": "text/x-python",
   "name": "python",
   "nbconvert_exporter": "python",
   "pygments_lexer": "ipython3",
   "version": "3.7.3"
  }
 },
 "nbformat": 4,
 "nbformat_minor": 4
}
