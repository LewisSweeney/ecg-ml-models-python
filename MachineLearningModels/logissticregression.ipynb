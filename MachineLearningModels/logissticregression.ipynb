{
 "cells": [
  {
   "cell_type": "code",
   "execution_count": 3,
   "metadata": {},
   "outputs": [
    {
     "data": {
      "text/plain": [
       "0"
      ]
     },
     "execution_count": 3,
     "metadata": {},
     "output_type": "execute_result"
    }
   ],
   "source": [
    "import modin.pandas as pd\n",
    "import numpy as np\n",
    "import matplotlib.pyplot as plt\n",
    "%matplotlib inline\n",
    "\n",
    "train = pd.read_csv(\"./data/train_feat.csv\").drop(['ID'], axis=1)\n",
    "test = pd.read_csv(\"./data/test_feat.csv\")\n",
    "\n",
    "train = train.fillna(train.mean())\n",
    "test = test.fillna(test.mean())\n",
    "\n",
    "X = train.drop(['Type'], axis=1)\n",
    "y = train['Type']\n",
    "\n",
    "train.isnull().sum().sum()\n"
   ]
  },
  {
   "cell_type": "code",
   "execution_count": 6,
   "metadata": {},
   "outputs": [
    {
     "name": "stdout",
     "output_type": "stream",
     "text": [
      "('Scores from each iteration: ', [0.7986988136241867, 0.8040566398775354, 0.7780329123612706, 0.7711442786069652, 0.7799464217374665])\n",
      "('Average K-Fold Score: ', 0.7863758132414849)\n"
     ]
    }
   ],
   "source": [
    "from sklearn.linear_model import LogisticRegression\n",
    "from sklearn.model_selection import KFold\n",
    "\n",
    "# K-Fold Cross Validation Code is adapted from here: https://towardsdatascience.com/why-and-how-to-cross-validate-a-model-d6424b45261f\n",
    "\n",
    "kf = KFold(n_splits = 5, shuffle = True)\n",
    "logreg = LogisticRegression(C=1e5)\n",
    "\n",
    "scores=[]\n",
    "for i in range(5):\n",
    "    result = next(kf.split(train), None)\n",
    "    X_train = X.iloc[result[0]]\n",
    "    X_test = X.iloc[result[1]]\n",
    "    y_train = y.iloc[result[0]]\n",
    "    y_test = y.iloc[result[1]]\n",
    "    model = logreg.fit(X_train,y_train)\n",
    "    predictions = logreg.predict(X_test)\n",
    "    scores.append(model.score(X_test,y_test))\n",
    "    \n",
    "print('Scores from each iteration: ', scores)\n",
    "print('Average K-Fold Score: ', np.mean(scores))"
   ]
  },
  {
   "cell_type": "code",
   "execution_count": 8,
   "metadata": {},
   "outputs": [
    {
     "name": "stdout",
     "output_type": "stream",
     "text": [
      "       ID Predicted\n",
      "0  C00000         N\n",
      "1  C00001         N\n",
      "2  C00002         A\n",
      "3  C00003         N\n",
      "4  C00004         N\n"
     ]
    }
   ],
   "source": [
    "sample = pd.read_csv('./data/sampleSubmission.csv')\n",
    "print(sample.head())\n",
    "#Make predications on test data\n",
    "model = logreg\n",
    "\n",
    "y_pred = model.predict(test.drop('ID', axis=1).values)\n",
    "results = pd.DataFrame()\n",
    "results[\"ID\"]=test[\"ID\"]\n",
    "results[\"Predicted\"]= y_pred\n",
    "\n",
    "#Export result\n",
    "results.to_csv(\"submissionLogReg.csv\", index=False)"
   ]
  },
  {
   "cell_type": "code",
   "execution_count": 9,
   "metadata": {},
   "outputs": [
    {
     "name": "stdout",
     "output_type": "stream",
     "text": [
      "       ID Predicted\n",
      "0  C00000         N\n",
      "1  C00001         O\n",
      "2  C00002         N\n",
      "3  C00003         N\n",
      "4  C00004         N\n"
     ]
    }
   ],
   "source": [
    "print(results.head())"
   ]
  },
  {
   "cell_type": "code",
   "execution_count": null,
   "metadata": {},
   "outputs": [],
   "source": []
  }
 ],
 "metadata": {
  "kernelspec": {
   "display_name": "Python 3",
   "language": "python",
   "name": "python3"
  },
  "language_info": {
   "codemirror_mode": {
    "name": "ipython",
    "version": 3
   },
   "file_extension": ".py",
   "mimetype": "text/x-python",
   "name": "python",
   "nbconvert_exporter": "python",
   "pygments_lexer": "ipython3",
   "version": "3.7.3"
  }
 },
 "nbformat": 4,
 "nbformat_minor": 4
}
